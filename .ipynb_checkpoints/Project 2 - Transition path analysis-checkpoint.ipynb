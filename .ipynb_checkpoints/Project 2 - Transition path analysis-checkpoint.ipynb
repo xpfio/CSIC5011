{
 "cells": [
  {
   "cell_type": "markdown",
   "metadata": {},
   "source": [
    "### 1. Markov Chain\n",
    "\n",
    "Define a Markov chain according to the network structure, such that from each node a random\n",
    "walker will jump to its neighbors with equal probability,   \n",
    "i.e. $P = D^{−1}A$ where $D = diag(d_{i})$  \n",
    "and $d_{i} = \\sum _j A_{ij}$ "
   ]
  },
  {
   "cell_type": "code",
   "execution_count": null,
   "metadata": {
    "collapsed": true
   },
   "outputs": [],
   "source": []
  },
  {
   "cell_type": "code",
   "execution_count": null,
   "metadata": {
    "collapsed": false
   },
   "outputs": [],
   "source": [
    "D = np.diag(np.sum(matrix,axis=1))\n",
    "print D\n",
    "# plt.figure(figsize=(15,10))\n",
    "# sns.heatmap(D)\n"
   ]
  },
  {
   "cell_type": "code",
   "execution_count": null,
   "metadata": {
    "collapsed": false
   },
   "outputs": [],
   "source": [
    "#Inverse of D\n",
    "inv_D = np.diag(1./np.sum(matrix,axis=1))\n",
    "inv_D\n",
    "plt.figure(figsize=(15,10))\n",
    "sns.heatmap(inv_D)"
   ]
  },
  {
   "cell_type": "code",
   "execution_count": null,
   "metadata": {
    "collapsed": false
   },
   "outputs": [],
   "source": [
    "#P-1 * A\n",
    "markov = np.dot(inv_D,matrix.T.astype(int))\n",
    "print markov\n",
    "plt.figure(figsize=(15,10))\n",
    "sns.heatmap(markov)\n",
    "np.sum(markov,axis=1)"
   ]
  },
  {
   "cell_type": "markdown",
   "metadata": {},
   "source": [
    "### 2. Stationnary Distribution\n"
   ]
  },
  {
   "cell_type": "code",
   "execution_count": null,
   "metadata": {
    "collapsed": false
   },
   "outputs": [],
   "source": [
    "from scipy.linalg import eig\n",
    "\n",
    "S, U = eig(markov, right=False, left=True)\n",
    "# print S\n",
    "# print U"
   ]
  },
  {
   "cell_type": "code",
   "execution_count": null,
   "metadata": {
    "collapsed": false
   },
   "outputs": [],
   "source": [
    "# Eigenvector corresponding to the eigenvalue 1\n",
    "print np.abs(S - 1.)\n",
    "np.argsort(np.abs(S - 1.))\n",
    "# Position 0!"
   ]
  },
  {
   "cell_type": "code",
   "execution_count": null,
   "metadata": {
    "collapsed": false
   },
   "outputs": [],
   "source": [
    "stationary = np.array(U[0])\n",
    "stationary /= np.sum(stationary)\n",
    "print stationary\n",
    "print D\n",
    "\n",
    "plt.figure(figsize=(15,1))\n",
    "sns.heatmap([np.abs(stationary),np.abs(stationary)])\n",
    "\n",
    "plt.figure(figsize=(15,1))\n",
    "sns.heatmap([np.sum(matrix,axis=0),np.sum(matrix,axis=1)])"
   ]
  },
  {
   "cell_type": "code",
   "execution_count": null,
   "metadata": {
    "collapsed": true
   },
   "outputs": [],
   "source": [
    "# Matlab\n",
    "\n",
    "% Transition Path Analysis for Karate Club network\n",
    "%\n",
    "%   Reference:\n",
    "%       Weinan E, Jianfeng Lu, and Yuan Yao (2013) \n",
    "%       The Landscape of Complex Networks: Critical Nodes and A Hierarchical Decomposition. \n",
    "%       Methods and Applications of Analysis, special issue in honor of Professor Stanley Osher on his 70th birthday, 20(4):383-404, 2013.\n",
    "\n",
    "% load the Adjacency matrix of Karate Club network\n",
    "%   replace it by your own data\n",
    "load karate_rand1.mat A\n",
    "\n",
    "D = sum(A, 2);\n",
    "N = length(D);\n",
    "Label = [0:N-1];\n",
    "TransProb = diag(1./D) * A;\n",
    "LMat = TransProb - diag(ones(N, 1));\n",
    "\n",
    "% source set A contains the coach\n",
    "% target set B contains the president \n",
    "SetA = 1; % [44:54];%[find(ind==19)];%[44:54];%18 + 1;\n",
    "SetB = 34; %[find(ind==11)];%10 + 1; % seems to be 11 instead of 10\n",
    "\n",
    "[EigV, EigD] = eig(LMat');\n",
    "EquiMeasure = EigV(:, 1)./sign(EigV(1,1));\n",
    "\n",
    "for i = 1:N\n",
    "  localmin = true;\n",
    "  for j = setdiff(1:N, i)\n",
    "    if ((LMat(i,j)>0)&(EquiMeasure(j)>EquiMeasure(i))) \n",
    "      localmin = false;\n",
    "      break\n",
    "    end\n",
    "  end\n",
    "  if (localmin)\n",
    "    i\n",
    "  end\n",
    "end\n",
    "\n",
    "mfpt = zeros(N, 1);\n",
    "SourceSet = 11;\n",
    "RemainSet = setdiff(1:N, SourceSet);\n",
    "mfpt(RemainSet) = - LMat(RemainSet, RemainSet) \\ ones(N-1, 1);\n",
    "\n",
    "TransLMat = diag(EquiMeasure) * LMat * diag(1./EquiMeasure); \n",
    "\n",
    "SourceSet = SetA;\n",
    "TargetSet = SetB;\n",
    "RemainSet = setdiff(1:N, union(SourceSet, TargetSet));\n",
    "\n",
    "% Initialization of Committor function: transition probability of reaching\n",
    "% the target set before returning to the source set.\n",
    "CommitAB = zeros(N, 1);\n",
    "CommitAB(SourceSet) = zeros(size(SourceSet));\n",
    "CommitAB(TargetSet) = ones(size(TargetSet));\n",
    "\n",
    "LMatRestrict = LMat(RemainSet, RemainSet);\n",
    "RightHandSide = - LMat(RemainSet, TargetSet) * CommitAB(TargetSet);\n",
    "\n",
    "% Solve the Dirchelet Boundary problem\n",
    "CommitAB(RemainSet) = LMatRestrict \\ RightHandSide;\n",
    "\n",
    "% Clustering into two basins according to the transition probability \n",
    "ClusterA = find(CommitAB <= 0.5);\n",
    "ClusterB = find(CommitAB > 0.5);\n",
    "\n",
    "% The inverse transition probability (committor function)\n",
    "CommitBA = zeros(N, 1);\n",
    "CommitBA(SourceSet) = ones(size(SourceSet));\n",
    "CommitBA(TargetSet) = zeros(size(TargetSet));\n",
    "\n",
    "LMatRestrict = LMat(RemainSet, RemainSet);\n",
    "RightHandSide = - LMat(RemainSet, SourceSet) * CommitBA(SourceSet);\n",
    "\n",
    "% Dirichelet Boundary Problem with inverse transition probability\n",
    "CommitBA(RemainSet) = LMatRestrict \\ RightHandSide;\n",
    "\n",
    "RhoAB = EquiMeasure .* CommitAB .* CommitBA;\n",
    "\n",
    "% Current or Flux on edges\n",
    "CurrentAB = diag(EquiMeasure .* CommitBA) * LMat * diag(CommitAB);\n",
    "CurrentAB = CurrentAB - diag(diag(CurrentAB));\n",
    "\n",
    "% Effective Current Flux\n",
    "EffCurrentAB = max(CurrentAB - CurrentAB', 0);\n",
    "\n",
    "% Transition Current or Flux on each node\n",
    "TransCurrent = zeros(N, 1);\n",
    "TransCurrent(ClusterA) = sum(EffCurrentAB(ClusterA, ClusterB), 2);\n",
    "TransCurrent(ClusterB) = sum(EffCurrentAB(ClusterA, ClusterB), 1);"
   ]
  }
 ],
 "metadata": {
  "kernelspec": {
   "display_name": "Python [py27]",
   "language": "python",
   "name": "Python [py27]"
  },
  "language_info": {
   "codemirror_mode": {
    "name": "ipython",
    "version": 2
   },
   "file_extension": ".py",
   "mimetype": "text/x-python",
   "name": "python",
   "nbconvert_exporter": "python",
   "pygments_lexer": "ipython2",
   "version": "2.7.13"
  }
 },
 "nbformat": 4,
 "nbformat_minor": 2
}
