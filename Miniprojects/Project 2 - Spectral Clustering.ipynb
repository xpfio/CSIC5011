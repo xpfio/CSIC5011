{
 "cells": [
  {
   "cell_type": "code",
   "execution_count": 26,
   "metadata": {
    "collapsed": false,
    "scrolled": true
   },
   "outputs": [],
   "source": [
    "import pickle\n",
    "data = pickle.load(open('data/karate_cleaned.p','rb'))\n",
    "# data"
   ]
  },
  {
   "cell_type": "markdown",
   "metadata": {},
   "source": [
    "# Spectral clustering via the Cheeger vector"
   ]
  },
  {
   "cell_type": "code",
   "execution_count": 27,
   "metadata": {
    "collapsed": true
   },
   "outputs": [],
   "source": [
    "import numpy as np\n",
    "from scipy.sparse import csgraph"
   ]
  },
  {
   "cell_type": "code",
   "execution_count": 28,
   "metadata": {
    "collapsed": false
   },
   "outputs": [
    {
     "name": "stdout",
     "output_type": "stream",
     "text": [
      "[0 1 1 1 1 1 1 1 1 0 1 1 1 1 0 0 0 1 0 1 0 1 0 0 0 0 0 0 0 0 0 1 0 0]\n",
      "[1 0 1 1 0 0 0 1 0 0 0 0 0 1 0 0 0 1 0 1 0 1 0 0 0 0 0 0 0 0 1 0 0 0]\n",
      "[1 1 0 1 0 0 0 1 1 1 0 0 0 1 0 0 0 0 0 0 0 0 0 0 0 0 0 1 1 0 0 0 1 0]\n",
      "[1 1 1 0 0 0 0 1 0 0 0 0 1 1 0 0 0 0 0 0 0 0 0 0 0 0 0 0 0 0 0 0 0 0]\n",
      "[1 0 0 0 0 0 1 0 0 0 1 0 0 0 0 0 0 0 0 0 0 0 0 0 0 0 0 0 0 0 0 0 0 0]\n",
      "[1 0 0 0 0 0 1 0 0 0 1 0 0 0 0 0 1 0 0 0 0 0 0 0 0 0 0 0 0 0 0 0 0 0]\n",
      "[1 0 0 0 1 1 0 0 0 0 0 0 0 0 0 0 1 0 0 0 0 0 0 0 0 0 0 0 0 0 0 0 0 0]\n",
      "[1 1 1 1 0 0 0 0 0 0 0 0 0 0 0 0 0 0 0 0 0 0 0 0 0 0 0 0 0 0 0 0 0 0]\n",
      "[1 0 1 0 0 0 0 0 0 0 0 0 0 0 0 0 0 0 0 0 0 0 0 0 0 0 0 0 0 0 1 0 1 1]\n",
      "[0 0 1 0 0 0 0 0 0 0 0 0 0 0 0 0 0 0 0 0 0 0 0 0 0 0 0 0 0 0 0 0 0 1]\n",
      "[1 0 0 0 1 1 0 0 0 0 0 0 0 0 0 0 0 0 0 0 0 0 0 0 0 0 0 0 0 0 0 0 0 0]\n",
      "[1 0 0 0 0 0 0 0 0 0 0 0 0 0 0 0 0 0 0 0 0 0 0 0 0 0 0 0 0 0 0 0 0 0]\n",
      "[1 0 0 1 0 0 0 0 0 0 0 0 0 0 0 0 0 0 0 0 0 0 0 0 0 0 0 0 0 0 0 0 0 0]\n",
      "[1 1 1 1 0 0 0 0 0 0 0 0 0 0 0 0 0 0 0 0 0 0 0 0 0 0 0 0 0 0 0 0 0 1]\n",
      "[0 0 0 0 0 0 0 0 0 0 0 0 0 0 0 0 0 0 0 0 0 0 0 0 0 0 0 0 0 0 0 0 1 1]\n",
      "[0 0 0 0 0 0 0 0 0 0 0 0 0 0 0 0 0 0 0 0 0 0 0 0 0 0 0 0 0 0 0 0 1 1]\n",
      "[0 0 0 0 0 1 1 0 0 0 0 0 0 0 0 0 0 0 0 0 0 0 0 0 0 0 0 0 0 0 0 0 0 0]\n",
      "[1 1 0 0 0 0 0 0 0 0 0 0 0 0 0 0 0 0 0 0 0 0 0 0 0 0 0 0 0 0 0 0 0 0]\n",
      "[0 0 0 0 0 0 0 0 0 0 0 0 0 0 0 0 0 0 0 0 0 0 0 0 0 0 0 0 0 0 0 0 1 1]\n",
      "[1 1 0 0 0 0 0 0 0 0 0 0 0 0 0 0 0 0 0 0 0 0 0 0 0 0 0 0 0 0 0 0 0 1]\n",
      "[0 0 0 0 0 0 0 0 0 0 0 0 0 0 0 0 0 0 0 0 0 0 0 0 0 0 0 0 0 0 0 0 1 1]\n",
      "[1 1 0 0 0 0 0 0 0 0 0 0 0 0 0 0 0 0 0 0 0 0 0 0 0 0 0 0 0 0 0 0 0 0]\n",
      "[0 0 0 0 0 0 0 0 0 0 0 0 0 0 0 0 0 0 0 0 0 0 0 0 0 0 0 0 0 0 0 0 1 1]\n",
      "[0 0 0 0 0 0 0 0 0 0 0 0 0 0 0 0 0 0 0 0 0 0 0 0 0 1 0 1 0 1 0 0 1 1]\n",
      "[0 0 0 0 0 0 0 0 0 0 0 0 0 0 0 0 0 0 0 0 0 0 0 0 0 1 0 1 0 0 0 1 0 0]\n",
      "[0 0 0 0 0 0 0 0 0 0 0 0 0 0 0 0 0 0 0 0 0 0 0 1 1 0 0 0 0 0 0 1 0 0]\n",
      "[0 0 0 0 0 0 0 0 0 0 0 0 0 0 0 0 0 0 0 0 0 0 0 0 0 0 0 0 0 1 0 0 0 1]\n",
      "[0 0 1 0 0 0 0 0 0 0 0 0 0 0 0 0 0 0 0 0 0 0 0 1 1 0 0 0 0 0 0 0 0 1]\n",
      "[0 0 1 0 0 0 0 0 0 0 0 0 0 0 0 0 0 0 0 0 0 0 0 0 0 0 0 0 0 0 0 1 0 1]\n",
      "[0 0 0 0 0 0 0 0 0 0 0 0 0 0 0 0 0 0 0 0 0 0 0 1 0 0 1 0 0 0 0 0 1 1]\n",
      "[0 1 0 0 0 0 0 0 1 0 0 0 0 0 0 0 0 0 0 0 0 0 0 0 0 0 0 0 0 0 0 0 1 1]\n",
      "[1 0 0 0 0 0 0 0 0 0 0 0 0 0 0 0 0 0 0 0 0 0 0 0 1 1 0 0 1 0 0 0 1 1]\n",
      "[0 0 1 0 0 0 0 0 1 0 0 0 0 0 1 1 0 0 1 0 1 0 1 1 0 0 0 0 0 1 1 1 0 1]\n",
      "[0 0 0 0 0 0 0 0 1 1 0 0 0 1 1 1 0 0 1 1 1 0 1 1 0 0 1 1 1 1 1 1 1 0]\n"
     ]
    }
   ],
   "source": [
    "matrix = data['matrix']\n",
    "for a in matrix:\n",
    "    print a"
   ]
  },
  {
   "cell_type": "markdown",
   "metadata": {},
   "source": [
    "### Normalized Graph Laplacian"
   ]
  },
  {
   "cell_type": "code",
   "execution_count": 29,
   "metadata": {
    "collapsed": false
   },
   "outputs": [
    {
     "data": {
      "text/plain": [
       "array([[ 1.        , -0.08333333, -0.07905694, ..., -0.10206207,\n",
       "        -0.        , -0.        ],\n",
       "       [-0.08333333,  1.        , -0.10540926, ..., -0.        ,\n",
       "        -0.        , -0.        ],\n",
       "       [-0.07905694, -0.10540926,  1.        , ..., -0.        ,\n",
       "        -0.09128709, -0.        ],\n",
       "       ..., \n",
       "       [-0.10206207, -0.        , -0.        , ...,  1.        ,\n",
       "        -0.11785113, -0.09901475],\n",
       "       [-0.        , -0.        , -0.09128709, ..., -0.11785113,\n",
       "         1.        , -0.070014  ],\n",
       "       [-0.        , -0.        , -0.        , ..., -0.09901475,\n",
       "        -0.070014  ,  1.        ]])"
      ]
     },
     "execution_count": 29,
     "metadata": {},
     "output_type": "execute_result"
    }
   ],
   "source": [
    "ngl = csgraph.laplacian(matrix.astype(float), normed=True)\n",
    "ngl"
   ]
  },
  {
   "cell_type": "code",
   "execution_count": 30,
   "metadata": {
    "collapsed": false
   },
   "outputs": [],
   "source": [
    "import seaborn as sns\n",
    "import matplotlib.pyplot as plt\n",
    "%matplotlib inline"
   ]
  },
  {
   "cell_type": "code",
   "execution_count": 31,
   "metadata": {
    "collapsed": false
   },
   "outputs": [
    {
     "data": {
      "text/plain": [
       "<matplotlib.axes._subplots.AxesSubplot at 0x12070cfd0>"
      ]
     },
     "execution_count": 31,
     "metadata": {},
     "output_type": "execute_result"
    },
    {
     "data": {
      "image/png": "[encoded data removed]",
      "text/plain": [
       "<matplotlib.figure.Figure at 0x11ed66610>"
      ]
     },
     "metadata": {},
     "output_type": "display_data"
    }
   ],
   "source": [
    "plt.figure(figsize=(15,10))\n",
    "sns.heatmap(ngl)"
   ]
  },
  {
   "cell_type": "markdown",
   "metadata": {},
   "source": [
    "### Eigenvectors and Eigenvalues"
   ]
  },
  {
   "cell_type": "code",
   "execution_count": 32,
   "metadata": {
    "collapsed": true
   },
   "outputs": [],
   "source": [
    "from scipy.linalg import eig"
   ]
  },
  {
   "cell_type": "code",
   "execution_count": 33,
   "metadata": {
    "collapsed": false,
    "scrolled": false
   },
   "outputs": [
    {
     "name": "stdout",
     "output_type": "stream",
     "text": [
      "(34, 34)\n",
      "[ -2.49800181e-16+0.j   1.32272329e-01+0.j   2.87048985e-01+0.j\n",
      "   3.87313233e-01+0.j   1.71461135e+00+0.j   6.12230540e-01+0.j\n",
      "   6.48992947e-01+0.j   7.07208202e-01+0.j   7.39957989e-01+0.j\n",
      "   7.70910617e-01+0.j   8.22942852e-01+0.j   8.64832945e-01+0.j\n",
      "   9.06816002e-01+0.j   1.10538084e+00+0.j   1.15929996e+00+0.j\n",
      "   1.26802355e+00+0.j   1.61190959e+00+0.j   1.56950660e+00+0.j\n",
      "   1.35177826e+00+0.j   1.39310454e+00+0.j   1.41691585e+00+0.j\n",
      "   1.44857938e+00+0.j   1.49703011e+00+0.j   1.58333333e+00+0.j\n",
      "   1.00000000e+00+0.j   1.00000000e+00+0.j   1.00000000e+00+0.j\n",
      "   1.00000000e+00+0.j   1.00000000e+00+0.j   1.00000000e+00+0.j\n",
      "   1.00000000e+00+0.j   1.00000000e+00+0.j   1.00000000e+00+0.j\n",
      "   1.00000000e+00+0.j]\n"
     ]
    },
    {
     "data": {
      "text/plain": [
       "array([[ -3.20256308e-01,  -2.96399797e-01,   1.44586983e-01, ...,\n",
       "          0.00000000e+00,   0.00000000e+00,   0.00000000e+00],\n",
       "       [ -2.40192231e-01,  -1.13413889e-01,   3.50466912e-01, ...,\n",
       "          1.02381971e-16,   1.06364095e-17,   1.59074765e-16],\n",
       "       [ -2.53184842e-01,   8.97112612e-03,   2.11481660e-01, ...,\n",
       "         -2.19799805e-17,  -1.03550800e-16,   4.96462301e-16],\n",
       "       ..., \n",
       "       [ -1.96116135e-01,   1.28108134e-01,  -1.10871456e-01, ...,\n",
       "          1.24049165e-16,  -1.59003548e-16,   4.68327043e-17],\n",
       "       [ -2.77350098e-01,   2.51627460e-01,  -1.12649647e-01, ...,\n",
       "         -4.80002082e-16,  -4.22277765e-16,   8.22532117e-16],\n",
       "       [ -3.30112646e-01,   2.69793542e-01,  -9.23627895e-02, ...,\n",
       "          5.37478772e-16,   2.97317487e-16,  -7.58639980e-16]])"
      ]
     },
     "execution_count": 33,
     "metadata": {},
     "output_type": "execute_result"
    }
   ],
   "source": [
    "(eigenvalues, eigenvectors) = eig(ngl, right=False, left=True)\n",
    "print eigenvectors.shape\n",
    "print eigenvalues\n",
    "eigenvectors"
   ]
  },
  {
   "cell_type": "code",
   "execution_count": 34,
   "metadata": {
    "collapsed": false
   },
   "outputs": [
    {
     "name": "stdout",
     "output_type": "stream",
     "text": [
      "Eigenvalues\n",
      "[ -2.49800181e-16+0.j   1.32272329e-01+0.j   2.87048985e-01+0.j\n",
      "   3.87313233e-01+0.j   1.71461135e+00+0.j   6.12230540e-01+0.j\n",
      "   6.48992947e-01+0.j   7.07208202e-01+0.j   7.39957989e-01+0.j\n",
      "   7.70910617e-01+0.j   8.22942852e-01+0.j   8.64832945e-01+0.j\n",
      "   9.06816002e-01+0.j   1.10538084e+00+0.j   1.15929996e+00+0.j\n",
      "   1.26802355e+00+0.j   1.61190959e+00+0.j   1.56950660e+00+0.j\n",
      "   1.35177826e+00+0.j   1.39310454e+00+0.j   1.41691585e+00+0.j\n",
      "   1.44857938e+00+0.j   1.49703011e+00+0.j   1.58333333e+00+0.j\n",
      "   1.00000000e+00+0.j   1.00000000e+00+0.j   1.00000000e+00+0.j\n",
      "   1.00000000e+00+0.j   1.00000000e+00+0.j   1.00000000e+00+0.j\n",
      "   1.00000000e+00+0.j   1.00000000e+00+0.j   1.00000000e+00+0.j\n",
      "   1.00000000e+00+0.j]\n",
      "\n",
      "Eigenvectors\n",
      "[[ -3.20256308e-01  -2.96399797e-01   1.44586983e-01 ...,   0.00000000e+00\n",
      "    0.00000000e+00   0.00000000e+00]\n",
      " [ -2.40192231e-01  -1.13413889e-01   3.50466912e-01 ...,   1.02381971e-16\n",
      "    1.06364095e-17   1.59074765e-16]\n",
      " [ -2.53184842e-01   8.97112612e-03   2.11481660e-01 ...,  -2.19799805e-17\n",
      "   -1.03550800e-16   4.96462301e-16]\n",
      " ..., \n",
      " [ -1.96116135e-01   1.28108134e-01  -1.10871456e-01 ...,   1.24049165e-16\n",
      "   -1.59003548e-16   4.68327043e-17]\n",
      " [ -2.77350098e-01   2.51627460e-01  -1.12649647e-01 ...,  -4.80002082e-16\n",
      "   -4.22277765e-16   8.22532117e-16]\n",
      " [ -3.30112646e-01   2.69793542e-01  -9.23627895e-02 ...,   5.37478772e-16\n",
      "    2.97317487e-16  -7.58639980e-16]]\n",
      "\n",
      "Invert in this base (sanity check)\n",
      "\n"
     ]
    },
    {
     "data": {
      "text/plain": [
       "<matplotlib.axes._subplots.AxesSubplot at 0x1211b7090>"
      ]
     },
     "execution_count": 34,
     "metadata": {},
     "output_type": "execute_result"
    },
    {
     "data": {
      "image/png": "[encoded data removed]",
      "text/plain": [
       "<matplotlib.figure.Figure at 0x11f10fb10>"
      ]
     },
     "metadata": {},
     "output_type": "display_data"
    }
   ],
   "source": [
    "print 'Eigenvalues\\n', eigenvalues\n",
    "print '\\nEigenvectors\\n', eigenvectors\n",
    "from numpy.linalg import inv\n",
    "(eigenvalues, eigenvectors) = eig(ngl, left=True,right=False)\n",
    "a = np.dot(np.dot(inv(eigenvectors),ngl),eigenvectors)\n",
    "plt.figure(figsize=(15,10))\n",
    "print '\\nInvert in this base (sanity check)\\n'\n",
    "sns.heatmap(a)"
   ]
  },
  {
   "cell_type": "markdown",
   "metadata": {},
   "source": [
    "### Sorting the eigenvectors by norm (but that's useless)"
   ]
  },
  {
   "cell_type": "code",
   "execution_count": 35,
   "metadata": {
    "collapsed": false
   },
   "outputs": [
    {
     "name": "stdout",
     "output_type": "stream",
     "text": [
      "[20 22  9 18 19  7 28 15 27 25 12 11  3  8  2 30 16  0 33 29  1 31 32 26 24\n",
      " 10  4  6  5 23 14 21 17 13]\n"
     ]
    }
   ],
   "source": [
    "# Sort by norm\n",
    "indexlist = np.argsort(np.linalg.norm(eigenvectors,axis=1))\n",
    "\n",
    "# Just for test purposes\n",
    "# indexlist = np.arange(34)\n",
    "# indexlist=reversed(indexlist)\n",
    "print indexlist\n",
    "sorted_eigenvectors = np.array([eigenvectors[:,k] for k in indexlist]).T"
   ]
  },
  {
   "cell_type": "code",
   "execution_count": 36,
   "metadata": {
    "collapsed": false
   },
   "outputs": [],
   "source": [
    "# a = np.dot(np.dot(inv(sorted_eigenvectors),ngl),sorted_eigenvectors)\n",
    "# plt.figure(figsize=(15,10))\n",
    "# sns.heatmap(a)"
   ]
  },
  {
   "cell_type": "markdown",
   "metadata": {},
   "source": [
    "### Sort by eigenvalues"
   ]
  },
  {
   "cell_type": "code",
   "execution_count": 37,
   "metadata": {
    "collapsed": false
   },
   "outputs": [
    {
     "name": "stdout",
     "output_type": "stream",
     "text": [
      "(34,)\n"
     ]
    },
    {
     "data": {
      "text/plain": [
       "array([ -2.49800181e-16+0.j,   1.32272329e-01+0.j,   2.87048985e-01+0.j,\n",
       "         3.87313233e-01+0.j,   1.71461135e+00+0.j,   6.12230540e-01+0.j,\n",
       "         6.48992947e-01+0.j,   7.07208202e-01+0.j,   7.39957989e-01+0.j,\n",
       "         7.70910617e-01+0.j,   8.22942852e-01+0.j,   8.64832945e-01+0.j,\n",
       "         9.06816002e-01+0.j,   1.10538084e+00+0.j,   1.15929996e+00+0.j,\n",
       "         1.26802355e+00+0.j,   1.61190959e+00+0.j,   1.56950660e+00+0.j,\n",
       "         1.35177826e+00+0.j,   1.39310454e+00+0.j,   1.41691585e+00+0.j,\n",
       "         1.44857938e+00+0.j,   1.49703011e+00+0.j,   1.58333333e+00+0.j,\n",
       "         1.00000000e+00+0.j,   1.00000000e+00+0.j,   1.00000000e+00+0.j,\n",
       "         1.00000000e+00+0.j,   1.00000000e+00+0.j,   1.00000000e+00+0.j,\n",
       "         1.00000000e+00+0.j,   1.00000000e+00+0.j,   1.00000000e+00+0.j,\n",
       "         1.00000000e+00+0.j])"
      ]
     },
     "execution_count": 37,
     "metadata": {},
     "output_type": "execute_result"
    }
   ],
   "source": [
    "(eigenvalues, eigenvectors) = eig(ngl, left=True,right=False)\n",
    "print eigenvalues.shape\n",
    "eigenvalues"
   ]
  },
  {
   "cell_type": "code",
   "execution_count": 38,
   "metadata": {
    "collapsed": false
   },
   "outputs": [
    {
     "name": "stdout",
     "output_type": "stream",
     "text": [
      "[ 0  1  2  3  5  6  7  8  9 10 11 12 24 30 32 31 27 26 33 25 29 28 13 14 15\n",
      " 18 19 20 21 22 17 23 16  4]\n"
     ]
    },
    {
     "data": {
      "text/plain": [
       "[(-2.4980018054066022e-16+0j),\n",
       " (0.13227232922951659+0j),\n",
       " (0.28704898538503493+0j),\n",
       " (0.38731323261013068+0j),\n",
       " (0.61223054020030909+0j),\n",
       " (0.64899294666920038+0j),\n",
       " (0.70720820249415162+0j),\n",
       " (0.73995798930084333+0j),\n",
       " (0.77091061685113016+0j),\n",
       " (0.82294285233819053+0j),\n",
       " (0.86483294458061954+0j),\n",
       " (0.90681600158647535+0j),\n",
       " (0.999999999999998+0j),\n",
       " (0.99999999999999822+0j),\n",
       " (0.99999999999999933+0j),\n",
       " (0.99999999999999978+0j),\n",
       " (0.99999999999999989+0j),\n",
       " (0.99999999999999989+0j),\n",
       " (0.99999999999999989+0j),\n",
       " (1+0j),\n",
       " (1.0000000000000004+0j),\n",
       " (1.0000000000000007+0j),\n",
       " (1.1053808390082949+0j),\n",
       " (1.1592999555430796+0j),\n",
       " (1.2680235467032606+0j),\n",
       " (1.3517782590320488+0j),\n",
       " (1.39310454092137+0j),\n",
       " (1.4169158506381598+0j),\n",
       " (1.4485793824675033+0j),\n",
       " (1.4970301128853551+0j),\n",
       " (1.5695066032433369+0j),\n",
       " (1.5833333333333335+0j),\n",
       " (1.6119095875050404+0j),\n",
       " (1.7146113474736213+0j)]"
      ]
     },
     "execution_count": 38,
     "metadata": {},
     "output_type": "execute_result"
    }
   ],
   "source": [
    "print np.argsort(eigenvalues)\n",
    "[eigenvalues[k] for k in np.argsort(eigenvalues)]"
   ]
  },
  {
   "cell_type": "markdown",
   "metadata": {},
   "source": [
    "so the second smallest eigenvalues is the second in the list eigenvalues (0.132272329229)"
   ]
  },
  {
   "cell_type": "code",
   "execution_count": 39,
   "metadata": {
    "collapsed": false
   },
   "outputs": [
    {
     "name": "stdout",
     "output_type": "stream",
     "text": [
      "(0.13227232923+0j)\n"
     ]
    }
   ],
   "source": [
    "second_smallest_eigenvalues = eigenvalues.T[1]\n",
    "print second_smallest_eigenvalues\n",
    "associated_eigenvectors = eigenvectors.T[1]\n",
    "v = associated_eigenvectors"
   ]
  },
  {
   "cell_type": "markdown",
   "metadata": {},
   "source": [
    "v is our **Fiedler Vector**"
   ]
  },
  {
   "cell_type": "code",
   "execution_count": 40,
   "metadata": {
    "collapsed": false
   },
   "outputs": [
    {
     "name": "stdout",
     "output_type": "stream",
     "text": [
      "[-0.2963998  -0.11341389  0.00897113 -0.11512758 -0.2671717  -0.34638736\n",
      " -0.34638736 -0.08992931  0.05282964  0.05563406 -0.2671717  -0.0853954\n",
      " -0.09868424 -0.04671125  0.11251508  0.11251508 -0.28226926 -0.09119046\n",
      "  0.11251508 -0.03091925  0.11251508 -0.09119046  0.11251508  0.19602288\n",
      "  0.13544115  0.14515535  0.12748466  0.1349113   0.08022324  0.18201707\n",
      "  0.07139028  0.12810813  0.25162746  0.26979354]\n"
     ]
    }
   ],
   "source": [
    "print v"
   ]
  },
  {
   "cell_type": "markdown",
   "metadata": {},
   "source": [
    "According to the sign, it give us the grouping:"
   ]
  },
  {
   "cell_type": "code",
   "execution_count": 41,
   "metadata": {
    "collapsed": false
   },
   "outputs": [
    {
     "name": "stdout",
     "output_type": "stream",
     "text": [
      "[1, 2, 4, 5, 6, 7, 8, 11, 12, 13, 14, 17, 18, 20, 22]\n",
      "[1, 2, 3, 4, 5, 6, 7, 8, 9, 11, 12, 13, 14, 17, 18, 20, 22]\n"
     ]
    }
   ],
   "source": [
    "# Every negative and corresponding indexes\n",
    "REDS = filter(lambda a: a!='', [index+1 if v[index] <= 0 else '' for index,a in enumerate(v)])\n",
    "print REDS\n",
    "print data['red_list']"
   ]
  },
  {
   "cell_type": "code",
   "execution_count": 42,
   "metadata": {
    "collapsed": false
   },
   "outputs": [
    {
     "name": "stdout",
     "output_type": "stream",
     "text": [
      "Correct [1, 2, 4, 5, 6, 7, 8, 11, 12, 13, 14, 17, 18, 20, 22] 15\n",
      "Wrong [3, 9] 2\n"
     ]
    }
   ],
   "source": [
    "correct = filter(lambda a:a in REDS,data['red_list'])\n",
    "print 'Correct',correct ,len(correct)\n",
    "wrong = filter(lambda a:a not in REDS,data['red_list'])\n",
    "print 'Wrong',wrong ,len(wrong)"
   ]
  },
  {
   "cell_type": "code",
   "execution_count": 43,
   "metadata": {
    "collapsed": false
   },
   "outputs": [
    {
     "name": "stdout",
     "output_type": "stream",
     "text": [
      "[3, 9, 10, 15, 16, 19, 21, 23, 24, 25, 26, 27, 28, 29, 30, 31, 32, 33, 34]\n",
      "[10, 15, 16, 19, 21, 23, 24, 25, 26, 27, 28, 29, 30, 31, 32, 33, 34]\n"
     ]
    }
   ],
   "source": [
    "# Every positive\n",
    "BLUES = filter(lambda a: a!='', [index+1 if v[index] > 0 else '' for index,a in enumerate(v)])\n",
    "print BLUES\n",
    "print data['blue_list']"
   ]
  },
  {
   "cell_type": "code",
   "execution_count": 44,
   "metadata": {
    "collapsed": false
   },
   "outputs": [
    {
     "name": "stdout",
     "output_type": "stream",
     "text": [
      "Correct [10, 15, 16, 19, 21, 23, 24, 25, 26, 27, 28, 29, 30, 31, 32, 33, 34] 17\n",
      "Wrong [] 0\n"
     ]
    }
   ],
   "source": [
    "correct = filter(lambda a:a in BLUES,data['blue_list'])\n",
    "print 'Correct',correct,len(correct)\n",
    "wrong = filter(lambda a:a not in BLUES,data['blue_list'])\n",
    "print 'Wrong',wrong ,len(wrong)"
   ]
  },
  {
   "cell_type": "markdown",
   "metadata": {},
   "source": [
    "# Just Visualisations"
   ]
  },
  {
   "cell_type": "code",
   "execution_count": 47,
   "metadata": {
    "collapsed": false
   },
   "outputs": [
    {
     "name": "stdout",
     "output_type": "stream",
     "text": [
      "[1, 1, 1, 1, 1, 1, 1, 1, 1, 0, 1, 1, 1, 1, 0, 0, 1, 1, 0, 1, 0, 1, 0, 0, 0, 0, 0, 0, 0, 0, 0, 0, 0, 0]\n",
      "[1, 1, 0, 1, 1, 1, 1, 1, 0, 0, 1, 1, 1, 1, 0, 0, 1, 1, 0, 1, 0, 1, 0, 0, 0, 0, 0, 0, 0, 0, 0, 0, 0, 0]\n"
     ]
    },
    {
     "data": {
      "text/plain": [
       "<matplotlib.text.Text at 0x121cf5950>"
      ]
     },
     "execution_count": 47,
     "metadata": {},
     "output_type": "execute_result"
    },
    {
     "data": {
      "image/png": "[encoded data removed]",
      "text/plain": [
       "<matplotlib.figure.Figure at 0x12055d310>"
      ]
     },
     "metadata": {},
     "output_type": "display_data"
    },
    {
     "data": {
      "image/png": "[encoded data removed]",
      "text/plain": [
       "<matplotlib.figure.Figure at 0x1213f7890>"
      ]
     },
     "metadata": {},
     "output_type": "display_data"
    }
   ],
   "source": [
    "ground_truth = [0 if x in data['blue_list'] else 1 for x in range(1,35)]\n",
    "\n",
    "print ground_truth\n",
    "plt.figure(figsize=(15,0.5))\n",
    "sns.heatmap([ground_truth,ground_truth],cmap='coolwarm').set_title('Ground Truth')\n",
    "\n",
    "results = [0 if x in BLUES else 1 for x in range(1,35)]\n",
    "print results\n",
    "plt.figure(figsize=(15,0.5))\n",
    "sns.heatmap([results,results],cmap='coolwarm').set_title('Predicted with Cheeger Vector')"
   ]
  },
  {
   "cell_type": "markdown",
   "metadata": {},
   "source": [
    "![alt src](project2_images/cluster2.png)"
   ]
  },
  {
   "cell_type": "code",
   "execution_count": 48,
   "metadata": {
    "collapsed": false
   },
   "outputs": [],
   "source": [
    "for a in data['graph']['nodes']:\n",
    "    a['group'] = 'red' if a['id'] in REDS else 'blue'\n",
    "\n",
    "import json\n",
    "with open('cluster_karate_B.json', 'w') as outfile:\n",
    "    json.dump(data['graph'], outfile)"
   ]
  },
  {
   "cell_type": "markdown",
   "metadata": {},
   "source": [
    "![alt src](project2_images/classC.png)\n",
    "\n",
    "...not that efficient   \n",
    "**there might be something wrong with my code**"
   ]
  },
  {
   "cell_type": "markdown",
   "metadata": {},
   "source": [
    "## Using Scikit Learn"
   ]
  },
  {
   "cell_type": "code",
   "execution_count": 50,
   "metadata": {
    "collapsed": false
   },
   "outputs": [
    {
     "name": "stdout",
     "output_type": "stream",
     "text": [
      "Ground Truth\n",
      "[1, 1, 1, 1, 1, 1, 1, 1, 1, 0, 1, 1, 1, 1, 0, 0, 1, 1, 0, 1, 0, 1, 0, 0, 0, 0, 0, 0, 0, 0, 0, 0, 0, 0]\n",
      "Spectral Clustering\n",
      "[1 1 0 1 1 1 1 0 0 0 1 0 0 0 0 0 1 0 0 0 0 0 0 0 0 0 0 0 0 0 0 0 0 0]\n",
      "0.204094758281\n",
      "0.271689477828\n"
     ]
    },
    {
     "data": {
      "image/png": "[encoded data removed]",
      "text/plain": [
       "<matplotlib.figure.Figure at 0x12216bbd0>"
      ]
     },
     "metadata": {},
     "output_type": "display_data"
    },
    {
     "data": {
      "image/png": "[encoded data removed]",
      "text/plain": [
       "<matplotlib.figure.Figure at 0x122189650>"
      ]
     },
     "metadata": {},
     "output_type": "display_data"
    }
   ],
   "source": [
    "from sklearn.cluster import SpectralClustering\n",
    "from sklearn import metrics\n",
    "\n",
    "# Cluster\n",
    "sc = SpectralClustering(2, affinity='precomputed', n_init=100)\n",
    "sc.fit(matrix)\n",
    "\n",
    "\n",
    "print 'Ground Truth'\n",
    "ground_truth = [0 if x in data['blue_list'] else 1 for x in range(1,35)]\n",
    "print ground_truth\n",
    "plt.figure(figsize=(15,0.5))\n",
    "sns.heatmap([ground_truth,ground_truth],cmap='coolwarm').set_title('Ground Truth')\n",
    "\n",
    "\n",
    "print('Spectral Clustering')\n",
    "print(sc.labels_)\n",
    "plt.figure(figsize=(15,0.5))\n",
    "sns.heatmap([sc.labels_,sc.labels_],cmap='coolwarm')\n",
    "\n",
    "# Calculate some clustering metrics\n",
    "print(metrics.adjusted_rand_score(ground_truth, sc.labels_))\n",
    "print(metrics.adjusted_mutual_info_score(ground_truth, sc.labels_))"
   ]
  },
  {
   "cell_type": "markdown",
   "metadata": {},
   "source": [
    "those are pretty good results!\n",
    "![alt src](project2_images/cluster_B.png)"
   ]
  },
  {
   "cell_type": "markdown",
   "metadata": {},
   "source": [
    "# Tuning parameters and adding KNN"
   ]
  },
  {
   "cell_type": "code",
   "execution_count": 23,
   "metadata": {
    "collapsed": false
   },
   "outputs": [
    {
     "data": {
      "text/plain": [
       "SpectralClustering(affinity='precomputed', assign_labels='discretize',\n",
       "          coef0=1, degree=3, eigen_solver=None, eigen_tol=0.0, gamma=1.0,\n",
       "          kernel_params=None, n_clusters=2, n_init=100, n_jobs=1,\n",
       "          n_neighbors=10, random_state=None)"
      ]
     },
     "execution_count": 23,
     "metadata": {},
     "output_type": "execute_result"
    }
   ],
   "source": [
    "sc = SpectralClustering(2, affinity='precomputed', n_init=100, assign_labels='discretize')\n",
    "sc.fit(matrix)"
   ]
  },
  {
   "cell_type": "code",
   "execution_count": 49,
   "metadata": {
    "collapsed": false
   },
   "outputs": [
    {
     "name": "stdout",
     "output_type": "stream",
     "text": [
      "Ground Truth\n",
      "[1, 1, 1, 1, 1, 1, 1, 1, 1, 0, 1, 1, 1, 1, 0, 0, 1, 1, 0, 1, 0, 1, 0, 0, 0, 0, 0, 0, 0, 0, 0, 0, 0, 0]\n",
      "Spectral Clustering\n",
      "[1 1 0 1 1 1 1 1 0 0 1 1 1 1 0 0 1 1 0 1 0 1 0 0 0 0 0 0 0 0 0 0 0 0]\n",
      "0.771725032425\n",
      "0.722546051351\n"
     ]
    },
    {
     "data": {
      "image/png": "[encoded data removed]",
      "text/plain": [
       "<matplotlib.figure.Figure at 0x121cde590>"
      ]
     },
     "metadata": {},
     "output_type": "display_data"
    },
    {
     "data": {
      "image/png": "[encoded data removed]",
      "text/plain": [
       "<matplotlib.figure.Figure at 0x121be1190>"
      ]
     },
     "metadata": {},
     "output_type": "display_data"
    }
   ],
   "source": [
    "print 'Ground Truth'\n",
    "ground_truth = [0 if x in data['blue_list'] else 1 for x in range(1,35)]\n",
    "print ground_truth\n",
    "plt.figure(figsize=(15,0.5))\n",
    "sns.heatmap([ground_truth,ground_truth],cmap='coolwarm').set_title('Ground Truth')\n",
    "\n",
    "\n",
    "print('Spectral Clustering')\n",
    "print(sc.labels_)\n",
    "plt.figure(figsize=(15,0.5))\n",
    "sns.heatmap([sc.labels_,sc.labels_],cmap='coolwarm')\n",
    "\n",
    "# Calculate some clustering metrics\n",
    "print(metrics.adjusted_rand_score(ground_truth, sc.labels_))\n",
    "print(metrics.adjusted_mutual_info_score(ground_truth, sc.labels_))"
   ]
  },
  {
   "cell_type": "code",
   "execution_count": 25,
   "metadata": {
    "collapsed": true
   },
   "outputs": [],
   "source": [
    "for a in data['graph']['nodes']:\n",
    "    a['group'] = 'red' if sc.labels_[a['id']-1] == 0 else 'blue'\n",
    "\n",
    "import json\n",
    "with open('cluster_karate_B.json', 'w') as outfile:\n",
    "    json.dump(data['graph'], outfile)"
   ]
  },
  {
   "cell_type": "markdown",
   "metadata": {},
   "source": [
    "![alt src](project2_images/final_clustering.png)"
   ]
  },
  {
   "cell_type": "code",
   "execution_count": null,
   "metadata": {
    "collapsed": true
   },
   "outputs": [],
   "source": []
  }
 ],
 "metadata": {
  "kernelspec": {
   "display_name": "Python [py27]",
   "language": "python",
   "name": "Python [py27]"
  },
  "language_info": {
   "codemirror_mode": {
    "name": "ipython",
    "version": 2
   },
   "file_extension": ".py",
   "mimetype": "text/x-python",
   "name": "python",
   "nbconvert_exporter": "python",
   "pygments_lexer": "ipython2",
   "version": "2.7.13"
  }
 },
 "nbformat": 4,
 "nbformat_minor": 2
}
