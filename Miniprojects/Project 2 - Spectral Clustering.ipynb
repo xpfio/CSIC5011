{
 "cells": [
  {
   "cell_type": "code",
   "execution_count": 155,
   "metadata": {
    "collapsed": false,
    "scrolled": true
   },
   "outputs": [],
   "source": [
    "import pickle\n",
    "data = pickle.load(open('data/karate_cleaned.p','rb'))\n",
    "# data"
   ]
  },
  {
   "cell_type": "markdown",
   "metadata": {},
   "source": [
    "# Spectral clustering via the Cheeger vector"
   ]
  },
  {
   "cell_type": "code",
   "execution_count": 156,
   "metadata": {
    "collapsed": true
   },
   "outputs": [],
   "source": [
    "import numpy as np\n",
    "from scipy.sparse import csgraph"
   ]
  },
  {
   "cell_type": "code",
   "execution_count": 157,
   "metadata": {
    "collapsed": false
   },
   "outputs": [
    {
     "name": "stdout",
     "output_type": "stream",
     "text": [
      "[0 1 1 1 1 1 1 1 1 0 1 1 1 1 0 0 0 1 0 1 0 1 0 0 0 0 0 0 0 0 0 1 0 0]\n",
      "[1 0 1 1 0 0 0 1 0 0 0 0 0 1 0 0 0 1 0 1 0 1 0 0 0 0 0 0 0 0 1 0 0 0]\n",
      "[1 1 0 1 0 0 0 1 1 1 0 0 0 1 0 0 0 0 0 0 0 0 0 0 0 0 0 1 1 0 0 0 1 0]\n",
      "[1 1 1 0 0 0 0 1 0 0 0 0 1 1 0 0 0 0 0 0 0 0 0 0 0 0 0 0 0 0 0 0 0 0]\n",
      "[1 0 0 0 0 0 1 0 0 0 1 0 0 0 0 0 0 0 0 0 0 0 0 0 0 0 0 0 0 0 0 0 0 0]\n",
      "[1 0 0 0 0 0 1 0 0 0 1 0 0 0 0 0 1 0 0 0 0 0 0 0 0 0 0 0 0 0 0 0 0 0]\n",
      "[1 0 0 0 1 1 0 0 0 0 0 0 0 0 0 0 1 0 0 0 0 0 0 0 0 0 0 0 0 0 0 0 0 0]\n",
      "[1 1 1 1 0 0 0 0 0 0 0 0 0 0 0 0 0 0 0 0 0 0 0 0 0 0 0 0 0 0 0 0 0 0]\n",
      "[1 0 1 0 0 0 0 0 0 0 0 0 0 0 0 0 0 0 0 0 0 0 0 0 0 0 0 0 0 0 1 0 1 1]\n",
      "[0 0 1 0 0 0 0 0 0 0 0 0 0 0 0 0 0 0 0 0 0 0 0 0 0 0 0 0 0 0 0 0 0 1]\n",
      "[1 0 0 0 1 1 0 0 0 0 0 0 0 0 0 0 0 0 0 0 0 0 0 0 0 0 0 0 0 0 0 0 0 0]\n",
      "[1 0 0 0 0 0 0 0 0 0 0 0 0 0 0 0 0 0 0 0 0 0 0 0 0 0 0 0 0 0 0 0 0 0]\n",
      "[1 0 0 1 0 0 0 0 0 0 0 0 0 0 0 0 0 0 0 0 0 0 0 0 0 0 0 0 0 0 0 0 0 0]\n",
      "[1 1 1 1 0 0 0 0 0 0 0 0 0 0 0 0 0 0 0 0 0 0 0 0 0 0 0 0 0 0 0 0 0 1]\n",
      "[0 0 0 0 0 0 0 0 0 0 0 0 0 0 0 0 0 0 0 0 0 0 0 0 0 0 0 0 0 0 0 0 1 1]\n",
      "[0 0 0 0 0 0 0 0 0 0 0 0 0 0 0 0 0 0 0 0 0 0 0 0 0 0 0 0 0 0 0 0 1 1]\n",
      "[0 0 0 0 0 1 1 0 0 0 0 0 0 0 0 0 0 0 0 0 0 0 0 0 0 0 0 0 0 0 0 0 0 0]\n",
      "[1 1 0 0 0 0 0 0 0 0 0 0 0 0 0 0 0 0 0 0 0 0 0 0 0 0 0 0 0 0 0 0 0 0]\n",
      "[0 0 0 0 0 0 0 0 0 0 0 0 0 0 0 0 0 0 0 0 0 0 0 0 0 0 0 0 0 0 0 0 1 1]\n",
      "[1 1 0 0 0 0 0 0 0 0 0 0 0 0 0 0 0 0 0 0 0 0 0 0 0 0 0 0 0 0 0 0 0 1]\n",
      "[0 0 0 0 0 0 0 0 0 0 0 0 0 0 0 0 0 0 0 0 0 0 0 0 0 0 0 0 0 0 0 0 1 1]\n",
      "[1 1 0 0 0 0 0 0 0 0 0 0 0 0 0 0 0 0 0 0 0 0 0 0 0 0 0 0 0 0 0 0 0 0]\n",
      "[0 0 0 0 0 0 0 0 0 0 0 0 0 0 0 0 0 0 0 0 0 0 0 0 0 0 0 0 0 0 0 0 1 1]\n",
      "[0 0 0 0 0 0 0 0 0 0 0 0 0 0 0 0 0 0 0 0 0 0 0 0 0 1 0 1 0 1 0 0 1 1]\n",
      "[0 0 0 0 0 0 0 0 0 0 0 0 0 0 0 0 0 0 0 0 0 0 0 0 0 1 0 1 0 0 0 1 0 0]\n",
      "[0 0 0 0 0 0 0 0 0 0 0 0 0 0 0 0 0 0 0 0 0 0 0 1 1 0 0 0 0 0 0 1 0 0]\n",
      "[0 0 0 0 0 0 0 0 0 0 0 0 0 0 0 0 0 0 0 0 0 0 0 0 0 0 0 0 0 1 0 0 0 1]\n",
      "[0 0 1 0 0 0 0 0 0 0 0 0 0 0 0 0 0 0 0 0 0 0 0 1 1 0 0 0 0 0 0 0 0 1]\n",
      "[0 0 1 0 0 0 0 0 0 0 0 0 0 0 0 0 0 0 0 0 0 0 0 0 0 0 0 0 0 0 0 1 0 1]\n",
      "[0 0 0 0 0 0 0 0 0 0 0 0 0 0 0 0 0 0 0 0 0 0 0 1 0 0 1 0 0 0 0 0 1 1]\n",
      "[0 1 0 0 0 0 0 0 1 0 0 0 0 0 0 0 0 0 0 0 0 0 0 0 0 0 0 0 0 0 0 0 1 1]\n",
      "[1 0 0 0 0 0 0 0 0 0 0 0 0 0 0 0 0 0 0 0 0 0 0 0 1 1 0 0 1 0 0 0 1 1]\n",
      "[0 0 1 0 0 0 0 0 1 0 0 0 0 0 1 1 0 0 1 0 1 0 1 1 0 0 0 0 0 1 1 1 0 1]\n",
      "[0 0 0 0 0 0 0 0 1 1 0 0 0 1 1 1 0 0 1 1 1 0 1 1 0 0 1 1 1 1 1 1 1 0]\n"
     ]
    }
   ],
   "source": [
    "matrix = data['matrix']\n",
    "for a in matrix:\n",
    "    print a"
   ]
  },
  {
   "cell_type": "markdown",
   "metadata": {},
   "source": [
    "### Normalized Graph Laplacian"
   ]
  },
  {
   "cell_type": "code",
   "execution_count": 158,
   "metadata": {
    "collapsed": false
   },
   "outputs": [
    {
     "data": {
      "text/plain": [
       "array([[ 1.        , -0.08333333, -0.07905694, ..., -0.10206207,\n",
       "        -0.        , -0.        ],\n",
       "       [-0.08333333,  1.        , -0.10540926, ..., -0.        ,\n",
       "        -0.        , -0.        ],\n",
       "       [-0.07905694, -0.10540926,  1.        , ..., -0.        ,\n",
       "        -0.09128709, -0.        ],\n",
       "       ..., \n",
       "       [-0.10206207, -0.        , -0.        , ...,  1.        ,\n",
       "        -0.11785113, -0.09901475],\n",
       "       [-0.        , -0.        , -0.09128709, ..., -0.11785113,\n",
       "         1.        , -0.070014  ],\n",
       "       [-0.        , -0.        , -0.        , ..., -0.09901475,\n",
       "        -0.070014  ,  1.        ]])"
      ]
     },
     "execution_count": 158,
     "metadata": {},
     "output_type": "execute_result"
    }
   ],
   "source": [
    "ngl = csgraph.laplacian(matrix.astype(float), normed=True)\n",
    "ngl"
   ]
  },
  {
   "cell_type": "code",
   "execution_count": 159,
   "metadata": {
    "collapsed": false
   },
   "outputs": [],
   "source": [
    "import seaborn as sns\n",
    "import matplotlib.pyplot as plt\n",
    "%matplotlib inline"
   ]
  },
  {
   "cell_type": "code",
   "execution_count": 160,
   "metadata": {
    "collapsed": false
   },
   "outputs": [
    {
     "data": {
      "text/plain": [
       "<matplotlib.axes._subplots.AxesSubplot at 0x118fa25d0>"
      ]
     },
     "execution_count": 160,
     "metadata": {},
     "output_type": "execute_result"
    },
    {
     "data": {
      "image/png": "[encoded data removed]",
      "text/plain": [
       "<matplotlib.figure.Figure at 0x1198af210>"
      ]
     },
     "metadata": {},
     "output_type": "display_data"
    }
   ],
   "source": [
    "plt.figure(figsize=(15,10))\n",
    "sns.heatmap(ngl)"
   ]
  },
  {
   "cell_type": "markdown",
   "metadata": {},
   "source": [
    "### Eigenvectors and Eigenvalues"
   ]
  },
  {
   "cell_type": "code",
   "execution_count": 161,
   "metadata": {
    "collapsed": true
   },
   "outputs": [],
   "source": [
    "from scipy.linalg import eig"
   ]
  },
  {
   "cell_type": "code",
   "execution_count": 162,
   "metadata": {
    "collapsed": false,
    "scrolled": false
   },
   "outputs": [
    {
     "name": "stdout",
     "output_type": "stream",
     "text": [
      "(34, 34)\n",
      "[ -2.49800181e-16+0.j   1.32272329e-01+0.j   2.87048985e-01+0.j\n",
      "   3.87313233e-01+0.j   1.71461135e+00+0.j   6.12230540e-01+0.j\n",
      "   6.48992947e-01+0.j   7.07208202e-01+0.j   7.39957989e-01+0.j\n",
      "   7.70910617e-01+0.j   8.22942852e-01+0.j   8.64832945e-01+0.j\n",
      "   9.06816002e-01+0.j   1.10538084e+00+0.j   1.15929996e+00+0.j\n",
      "   1.26802355e+00+0.j   1.61190959e+00+0.j   1.56950660e+00+0.j\n",
      "   1.35177826e+00+0.j   1.39310454e+00+0.j   1.41691585e+00+0.j\n",
      "   1.44857938e+00+0.j   1.49703011e+00+0.j   1.58333333e+00+0.j\n",
      "   1.00000000e+00+0.j   1.00000000e+00+0.j   1.00000000e+00+0.j\n",
      "   1.00000000e+00+0.j   1.00000000e+00+0.j   1.00000000e+00+0.j\n",
      "   1.00000000e+00+0.j   1.00000000e+00+0.j   1.00000000e+00+0.j\n",
      "   1.00000000e+00+0.j]\n"
     ]
    },
    {
     "data": {
      "text/plain": [
       "array([[ -3.20256308e-01,  -2.96399797e-01,   1.44586983e-01, ...,\n",
       "          0.00000000e+00,   0.00000000e+00,   0.00000000e+00],\n",
       "       [ -2.40192231e-01,  -1.13413889e-01,   3.50466912e-01, ...,\n",
       "          1.02381971e-16,   1.06364095e-17,   1.59074765e-16],\n",
       "       [ -2.53184842e-01,   8.97112612e-03,   2.11481660e-01, ...,\n",
       "         -2.19799805e-17,  -1.03550800e-16,   4.96462301e-16],\n",
       "       ..., \n",
       "       [ -1.96116135e-01,   1.28108134e-01,  -1.10871456e-01, ...,\n",
       "          1.24049165e-16,  -1.59003548e-16,   4.68327043e-17],\n",
       "       [ -2.77350098e-01,   2.51627460e-01,  -1.12649647e-01, ...,\n",
       "         -4.80002082e-16,  -4.22277765e-16,   8.22532117e-16],\n",
       "       [ -3.30112646e-01,   2.69793542e-01,  -9.23627895e-02, ...,\n",
       "          5.37478772e-16,   2.97317487e-16,  -7.58639980e-16]])"
      ]
     },
     "execution_count": 162,
     "metadata": {},
     "output_type": "execute_result"
    }
   ],
   "source": [
    "(eigenvalues, eigenvectors) = eig(ngl, right=False, left=True)\n",
    "print eigenvectors.shape\n",
    "print eigenvalues\n",
    "eigenvectors"
   ]
  },
  {
   "cell_type": "code",
   "execution_count": 163,
   "metadata": {
    "collapsed": false
   },
   "outputs": [
    {
     "name": "stdout",
     "output_type": "stream",
     "text": [
      "Eigenvalues\n",
      "[ -2.49800181e-16+0.j   1.32272329e-01+0.j   2.87048985e-01+0.j\n",
      "   3.87313233e-01+0.j   1.71461135e+00+0.j   6.12230540e-01+0.j\n",
      "   6.48992947e-01+0.j   7.07208202e-01+0.j   7.39957989e-01+0.j\n",
      "   7.70910617e-01+0.j   8.22942852e-01+0.j   8.64832945e-01+0.j\n",
      "   9.06816002e-01+0.j   1.10538084e+00+0.j   1.15929996e+00+0.j\n",
      "   1.26802355e+00+0.j   1.61190959e+00+0.j   1.56950660e+00+0.j\n",
      "   1.35177826e+00+0.j   1.39310454e+00+0.j   1.41691585e+00+0.j\n",
      "   1.44857938e+00+0.j   1.49703011e+00+0.j   1.58333333e+00+0.j\n",
      "   1.00000000e+00+0.j   1.00000000e+00+0.j   1.00000000e+00+0.j\n",
      "   1.00000000e+00+0.j   1.00000000e+00+0.j   1.00000000e+00+0.j\n",
      "   1.00000000e+00+0.j   1.00000000e+00+0.j   1.00000000e+00+0.j\n",
      "   1.00000000e+00+0.j]\n",
      "\n",
      "Eigenvectors\n",
      "[[ -3.20256308e-01  -2.96399797e-01   1.44586983e-01 ...,   0.00000000e+00\n",
      "    0.00000000e+00   0.00000000e+00]\n",
      " [ -2.40192231e-01  -1.13413889e-01   3.50466912e-01 ...,   1.02381971e-16\n",
      "    1.06364095e-17   1.59074765e-16]\n",
      " [ -2.53184842e-01   8.97112612e-03   2.11481660e-01 ...,  -2.19799805e-17\n",
      "   -1.03550800e-16   4.96462301e-16]\n",
      " ..., \n",
      " [ -1.96116135e-01   1.28108134e-01  -1.10871456e-01 ...,   1.24049165e-16\n",
      "   -1.59003548e-16   4.68327043e-17]\n",
      " [ -2.77350098e-01   2.51627460e-01  -1.12649647e-01 ...,  -4.80002082e-16\n",
      "   -4.22277765e-16   8.22532117e-16]\n",
      " [ -3.30112646e-01   2.69793542e-01  -9.23627895e-02 ...,   5.37478772e-16\n",
      "    2.97317487e-16  -7.58639980e-16]]\n",
      "\n",
      "Invert in this base (sanity check)\n",
      "\n"
     ]
    },
    {
     "data": {
      "text/plain": [
       "<matplotlib.axes._subplots.AxesSubplot at 0x119a85a90>"
      ]
     },
     "execution_count": 163,
     "metadata": {},
     "output_type": "execute_result"
    },
    {
     "data": {
      "image/png": "[encoded data removed]",
      "text/plain": [
       "<matplotlib.figure.Figure at 0x1178dfb90>"
      ]
     },
     "metadata": {},
     "output_type": "display_data"
    }
   ],
   "source": [
    "print 'Eigenvalues\\n', eigenvalues\n",
    "print '\\nEigenvectors\\n', eigenvectors\n",
    "from numpy.linalg import inv\n",
    "(eigenvalues, eigenvectors) = eig(ngl, left=True,right=False)\n",
    "a = np.dot(np.dot(inv(eigenvectors),ngl),eigenvectors)\n",
    "plt.figure(figsize=(15,10))\n",
    "print '\\nInvert in this base (sanity check)\\n'\n",
    "sns.heatmap(a)"
   ]
  },
  {
   "cell_type": "markdown",
   "metadata": {},
   "source": [
    "### Sorting the eigenvectors by norm (but that's useless)"
   ]
  },
  {
   "cell_type": "code",
   "execution_count": 164,
   "metadata": {
    "collapsed": false
   },
   "outputs": [
    {
     "name": "stdout",
     "output_type": "stream",
     "text": [
      "[20 22  9 18 19  7 28 15 27 25 12 11  3  8  2 30 16  0 33 29  1 31 32 26 24\n",
      " 10  4  6  5 23 14 21 17 13]\n"
     ]
    }
   ],
   "source": [
    "# Sort by norm\n",
    "indexlist = np.argsort(np.linalg.norm(eigenvectors,axis=1))\n",
    "\n",
    "# Just for test purposes\n",
    "# indexlist = np.arange(34)\n",
    "# indexlist=reversed(indexlist)\n",
    "print indexlist\n",
    "sorted_eigenvectors = np.array([eigenvectors[:,k] for k in indexlist]).T"
   ]
  },
  {
   "cell_type": "code",
   "execution_count": 165,
   "metadata": {
    "collapsed": false
   },
   "outputs": [],
   "source": [
    "# a = np.dot(np.dot(inv(sorted_eigenvectors),ngl),sorted_eigenvectors)\n",
    "# plt.figure(figsize=(15,10))\n",
    "# sns.heatmap(a)"
   ]
  },
  {
   "cell_type": "markdown",
   "metadata": {},
   "source": [
    "### Sort by eigenvalues"
   ]
  },
  {
   "cell_type": "code",
   "execution_count": 166,
   "metadata": {
    "collapsed": false
   },
   "outputs": [
    {
     "name": "stdout",
     "output_type": "stream",
     "text": [
      "(34,)\n"
     ]
    },
    {
     "data": {
      "text/plain": [
       "array([ -2.49800181e-16+0.j,   1.32272329e-01+0.j,   2.87048985e-01+0.j,\n",
       "         3.87313233e-01+0.j,   1.71461135e+00+0.j,   6.12230540e-01+0.j,\n",
       "         6.48992947e-01+0.j,   7.07208202e-01+0.j,   7.39957989e-01+0.j,\n",
       "         7.70910617e-01+0.j,   8.22942852e-01+0.j,   8.64832945e-01+0.j,\n",
       "         9.06816002e-01+0.j,   1.10538084e+00+0.j,   1.15929996e+00+0.j,\n",
       "         1.26802355e+00+0.j,   1.61190959e+00+0.j,   1.56950660e+00+0.j,\n",
       "         1.35177826e+00+0.j,   1.39310454e+00+0.j,   1.41691585e+00+0.j,\n",
       "         1.44857938e+00+0.j,   1.49703011e+00+0.j,   1.58333333e+00+0.j,\n",
       "         1.00000000e+00+0.j,   1.00000000e+00+0.j,   1.00000000e+00+0.j,\n",
       "         1.00000000e+00+0.j,   1.00000000e+00+0.j,   1.00000000e+00+0.j,\n",
       "         1.00000000e+00+0.j,   1.00000000e+00+0.j,   1.00000000e+00+0.j,\n",
       "         1.00000000e+00+0.j])"
      ]
     },
     "execution_count": 166,
     "metadata": {},
     "output_type": "execute_result"
    }
   ],
   "source": [
    "(eigenvalues, eigenvectors) = eig(ngl, left=True,right=False)\n",
    "print eigenvalues.shape\n",
    "eigenvalues"
   ]
  },
  {
   "cell_type": "code",
   "execution_count": 167,
   "metadata": {
    "collapsed": false
   },
   "outputs": [
    {
     "name": "stdout",
     "output_type": "stream",
     "text": [
      "[ 0  1  2  3  5  6  7  8  9 10 11 12 24 30 32 31 27 26 33 25 29 28 13 14 15\n",
      " 18 19 20 21 22 17 23 16  4]\n"
     ]
    },
    {
     "data": {
      "text/plain": [
       "[(-2.4980018054066022e-16+0j),\n",
       " (0.13227232922951659+0j),\n",
       " (0.28704898538503493+0j),\n",
       " (0.38731323261013068+0j),\n",
       " (0.61223054020030909+0j),\n",
       " (0.64899294666920038+0j),\n",
       " (0.70720820249415162+0j),\n",
       " (0.73995798930084333+0j),\n",
       " (0.77091061685113016+0j),\n",
       " (0.82294285233819053+0j),\n",
       " (0.86483294458061954+0j),\n",
       " (0.90681600158647535+0j),\n",
       " (0.999999999999998+0j),\n",
       " (0.99999999999999822+0j),\n",
       " (0.99999999999999933+0j),\n",
       " (0.99999999999999978+0j),\n",
       " (0.99999999999999989+0j),\n",
       " (0.99999999999999989+0j),\n",
       " (0.99999999999999989+0j),\n",
       " (1+0j),\n",
       " (1.0000000000000004+0j),\n",
       " (1.0000000000000007+0j),\n",
       " (1.1053808390082949+0j),\n",
       " (1.1592999555430796+0j),\n",
       " (1.2680235467032606+0j),\n",
       " (1.3517782590320488+0j),\n",
       " (1.39310454092137+0j),\n",
       " (1.4169158506381598+0j),\n",
       " (1.4485793824675033+0j),\n",
       " (1.4970301128853551+0j),\n",
       " (1.5695066032433369+0j),\n",
       " (1.5833333333333335+0j),\n",
       " (1.6119095875050404+0j),\n",
       " (1.7146113474736213+0j)]"
      ]
     },
     "execution_count": 167,
     "metadata": {},
     "output_type": "execute_result"
    }
   ],
   "source": [
    "print np.argsort(eigenvalues)\n",
    "[eigenvalues[k] for k in np.argsort(eigenvalues)]"
   ]
  },
  {
   "cell_type": "markdown",
   "metadata": {},
   "source": [
    "so the second smallest eigenvalues is the second in the list eigenvalues (0.132272329229)"
   ]
  },
  {
   "cell_type": "code",
   "execution_count": 168,
   "metadata": {
    "collapsed": false
   },
   "outputs": [
    {
     "name": "stdout",
     "output_type": "stream",
     "text": [
      "(0.13227232923+0j)\n"
     ]
    }
   ],
   "source": [
    "second_smallest_eigenvalues = eigenvalues[1]\n",
    "print second_smallest_eigenvalues\n",
    "associated_eigenvectors = eigenvectors[1]\n",
    "v = associated_eigenvectors"
   ]
  },
  {
   "cell_type": "markdown",
   "metadata": {},
   "source": [
    "v is our **Fiedler Vector**"
   ]
  },
  {
   "cell_type": "code",
   "execution_count": 169,
   "metadata": {
    "collapsed": false
   },
   "outputs": [
    {
     "name": "stdout",
     "output_type": "stream",
     "text": [
      "[ -2.40192231e-01  -1.13413889e-01   3.50466912e-01  -1.16184615e-02\n",
      "   1.85412174e-01  -7.50281776e-02   1.99279371e-01   3.94584488e-01\n",
      "   2.43385546e-02  -8.35547698e-03   1.35031338e-01  -2.46323770e-01\n",
      "   1.54255996e-02   8.61938510e-02   2.56564576e-01  -1.42675190e-01\n",
      "   3.02953464e-02  -3.37539716e-01  -1.25186576e-01   4.18827810e-02\n",
      "  -2.64555784e-01  -4.40332947e-01   3.85656048e-02   1.09967053e-16\n",
      "  -5.87255503e-17   7.96604142e-17   1.63955137e-16  -5.50149584e-17\n",
      "   1.03140908e-17  -3.83971326e-18   3.31790370e-17   1.02381971e-16\n",
      "   1.06364095e-17   1.59074765e-16]\n"
     ]
    }
   ],
   "source": [
    "print v"
   ]
  },
  {
   "cell_type": "markdown",
   "metadata": {},
   "source": [
    "According to the sign, it give us the grouping:"
   ]
  },
  {
   "cell_type": "code",
   "execution_count": 170,
   "metadata": {
    "collapsed": false
   },
   "outputs": [
    {
     "name": "stdout",
     "output_type": "stream",
     "text": [
      "[1, 2, 4, 6, 10, 12, 16, 18, 19, 21, 22, 25, 28, 30]\n",
      "[1, 2, 3, 4, 5, 6, 7, 8, 9, 11, 12, 13, 14, 17, 18, 20, 22]\n"
     ]
    }
   ],
   "source": [
    "# Every negative and corresponding indexes\n",
    "REDS = filter(lambda a: a!='', [index+1 if v[index] <= 0 else '' for index,a in enumerate(v)])\n",
    "print REDS\n",
    "print data['red_list']"
   ]
  },
  {
   "cell_type": "code",
   "execution_count": 171,
   "metadata": {
    "collapsed": false
   },
   "outputs": [
    {
     "name": "stdout",
     "output_type": "stream",
     "text": [
      "Correct [1, 2, 4, 6, 12, 18, 22] 7\n",
      "Wrong [3, 5, 7, 8, 9, 11, 13, 14, 17, 20] 10\n"
     ]
    }
   ],
   "source": [
    "correct = filter(lambda a:a in REDS,data['red_list'])\n",
    "print 'Correct',correct ,len(correct)\n",
    "wrong = filter(lambda a:a not in REDS,data['red_list'])\n",
    "print 'Wrong',wrong ,len(wrong)"
   ]
  },
  {
   "cell_type": "code",
   "execution_count": 172,
   "metadata": {
    "collapsed": false
   },
   "outputs": [
    {
     "name": "stdout",
     "output_type": "stream",
     "text": [
      "[3, 5, 7, 8, 9, 11, 13, 14, 15, 17, 20, 23, 24, 26, 27, 29, 31, 32, 33, 34]\n",
      "[10, 15, 16, 19, 21, 23, 24, 25, 26, 27, 28, 29, 30, 31, 32, 33, 34]\n"
     ]
    }
   ],
   "source": [
    "# Every positive\n",
    "BLUES = filter(lambda a: a!='', [index+1 if v[index] > 0 else '' for index,a in enumerate(v)])\n",
    "print BLUES\n",
    "print data['blue_list']"
   ]
  },
  {
   "cell_type": "code",
   "execution_count": 173,
   "metadata": {
    "collapsed": false
   },
   "outputs": [
    {
     "name": "stdout",
     "output_type": "stream",
     "text": [
      "Correct [15, 23, 24, 26, 27, 29, 31, 32, 33, 34] 10\n",
      "Wrong [10, 16, 19, 21, 25, 28, 30] 7\n"
     ]
    }
   ],
   "source": [
    "correct = filter(lambda a:a in BLUES,data['blue_list'])\n",
    "print 'Correct',correct,len(correct)\n",
    "wrong = filter(lambda a:a not in BLUES,data['blue_list'])\n",
    "print 'Wrong',wrong ,len(wrong)"
   ]
  },
  {
   "cell_type": "code",
   "execution_count": 174,
   "metadata": {
    "collapsed": false
   },
   "outputs": [],
   "source": [
    "# Ground truth\n",
    "# print data['red_list']\n",
    "# print data['blue_list']"
   ]
  },
  {
   "cell_type": "markdown",
   "metadata": {},
   "source": [
    "![alt src](project2_images/cluster.png)"
   ]
  },
  {
   "cell_type": "code",
   "execution_count": 175,
   "metadata": {
    "collapsed": false
   },
   "outputs": [],
   "source": [
    "for a in data['graph']['nodes']:\n",
    "    a['group'] = 'red' if a['id'] in REDS else 'blue'\n",
    "\n",
    "import json\n",
    "with open('cluster_karate_B.json', 'w') as outfile:\n",
    "    json.dump(data['graph'], outfile)"
   ]
  },
  {
   "cell_type": "markdown",
   "metadata": {},
   "source": [
    "![alt src](project2_images/cluster_comparison_A.png)\n",
    "\n",
    "...not that efficient   \n",
    "**there might be something wrong with my code**"
   ]
  },
  {
   "cell_type": "code",
   "execution_count": null,
   "metadata": {
    "collapsed": true
   },
   "outputs": [],
   "source": [
    "import numpy as np\n",
    "import networkx as nx\n",
    "from sklearn.cluster import SpectralClustering\n",
    "from sklearn import metrics\n",
    "np.random.seed(1)\n",
    "\n",
    "# Get your mentioned graph\n",
    "G = nx.karate_club_graph()\n",
    "\n",
    "# Get ground-truth: club-labels -> transform to 0/1 np-array\n",
    "#     (possible overcomplicated networkx usage here)\n",
    "gt_dict = nx.get_node_attributes(G, 'club')\n",
    "gt = [gt_dict[i] for i in G.nodes()]\n",
    "gt = np.array([0 if i == 'Mr. Hi' else 1 for i in gt])\n",
    "\n",
    "# Get adjacency-matrix as numpy-array\n",
    "adj_mat = nx.to_numpy_matrix(G)\n",
    "\n",
    "print('ground truth')\n",
    "print(gt)\n",
    "\n",
    "# Cluster\n",
    "sc = SpectralClustering(2, affinity='precomputed', n_init=100)\n",
    "sc.fit(adj_mat)\n",
    "\n",
    "# Compare ground-truth and clustering-results\n",
    "print('spectral clustering')\n",
    "print(sc.labels_)\n",
    "print('just for better-visualization: invert clusters (permutation)')\n",
    "print(np.abs(sc.labels_ - 1))\n",
    "\n",
    "# Calculate some clustering metrics\n",
    "print(metrics.adjusted_rand_score(gt, sc.labels_))\n",
    "print(metrics.adjusted_mutual_info_score(gt, sc.labels_))"
   ]
  },
  {
   "cell_type": "markdown",
   "metadata": {},
   "source": [
    "# Transition path analysis"
   ]
  },
  {
   "cell_type": "markdown",
   "metadata": {},
   "source": [
    "### 1. Markov Chain\n",
    "\n",
    "Define a Markov chain according to the network structure, such that from each node a random\n",
    "walker will jump to its neighbors with equal probability,   \n",
    "i.e. $P = D^{−1}A$ where $D = diag(d_{i})$  \n",
    "and $d_{i} = \\sum _j A_{ij}$ "
   ]
  },
  {
   "cell_type": "code",
   "execution_count": null,
   "metadata": {
    "collapsed": false,
    "scrolled": false
   },
   "outputs": [],
   "source": [
    "D = np.diag(np.sum(matrix,axis=1))\n",
    "print D\n",
    "# plt.figure(figsize=(15,10))\n",
    "# sns.heatmap(D)"
   ]
  },
  {
   "cell_type": "code",
   "execution_count": null,
   "metadata": {
    "collapsed": false
   },
   "outputs": [],
   "source": [
    "#Inverse of D\n",
    "inv_D = np.diag(1./np.sum(matrix,axis=1))\n",
    "inv_D\n",
    "plt.figure(figsize=(15,10))\n",
    "sns.heatmap(inv_D)"
   ]
  },
  {
   "cell_type": "code",
   "execution_count": null,
   "metadata": {
    "collapsed": false
   },
   "outputs": [],
   "source": [
    "#P-1 * A\n",
    "markov = np.dot(inv_D,matrix.T.astype(int))\n",
    "print markov\n",
    "plt.figure(figsize=(15,10))\n",
    "sns.heatmap(markov)\n",
    "np.sum(markov,axis=1)"
   ]
  },
  {
   "cell_type": "markdown",
   "metadata": {},
   "source": [
    "### 2. Stationnary Distribution"
   ]
  },
  {
   "cell_type": "code",
   "execution_count": null,
   "metadata": {
    "collapsed": false
   },
   "outputs": [],
   "source": [
    "from scipy.linalg import eig\n",
    "\n",
    "S, U = eig(markov, right=False, left=True)\n",
    "# print S\n",
    "# print U"
   ]
  },
  {
   "cell_type": "code",
   "execution_count": null,
   "metadata": {
    "collapsed": false
   },
   "outputs": [],
   "source": [
    "# Eigenvector corresponding to the eigenvalue 1\n",
    "print np.abs(S - 1.)\n",
    "np.argsort(np.abs(S - 1.))\n",
    "# Position 0!"
   ]
  },
  {
   "cell_type": "code",
   "execution_count": null,
   "metadata": {
    "collapsed": false
   },
   "outputs": [],
   "source": [
    "stationary = np.array(U[0])\n",
    "stationary /= np.sum(stationary)\n",
    "print stationary\n",
    "print D\n",
    "\n",
    "plt.figure(figsize=(15,1))\n",
    "sns.heatmap([np.abs(stationary),np.abs(stationary)])\n",
    "\n",
    "plt.figure(figsize=(15,1))\n",
    "sns.heatmap([np.sum(matrix,axis=0),np.sum(matrix,axis=1)])"
   ]
  },
  {
   "cell_type": "code",
   "execution_count": null,
   "metadata": {
    "collapsed": true
   },
   "outputs": [],
   "source": [
    "# Matlab\n",
    "\n",
    "% Transition Path Analysis for Karate Club network\n",
    "%\n",
    "%   Reference:\n",
    "%       Weinan E, Jianfeng Lu, and Yuan Yao (2013) \n",
    "%       The Landscape of Complex Networks: Critical Nodes and A Hierarchical Decomposition. \n",
    "%       Methods and Applications of Analysis, special issue in honor of Professor Stanley Osher on his 70th birthday, 20(4):383-404, 2013.\n",
    "\n",
    "% load the Adjacency matrix of Karate Club network\n",
    "%   replace it by your own data\n",
    "load karate_rand1.mat A\n",
    "\n",
    "D = sum(A, 2);\n",
    "N = length(D);\n",
    "Label = [0:N-1];\n",
    "TransProb = diag(1./D) * A;\n",
    "LMat = TransProb - diag(ones(N, 1));\n",
    "\n",
    "% source set A contains the coach\n",
    "% target set B contains the president \n",
    "SetA = 1; % [44:54];%[find(ind==19)];%[44:54];%18 + 1;\n",
    "SetB = 34; %[find(ind==11)];%10 + 1; % seems to be 11 instead of 10\n",
    "\n",
    "[EigV, EigD] = eig(LMat');\n",
    "EquiMeasure = EigV(:, 1)./sign(EigV(1,1));\n",
    "\n",
    "for i = 1:N\n",
    "  localmin = true;\n",
    "  for j = setdiff(1:N, i)\n",
    "    if ((LMat(i,j)>0)&(EquiMeasure(j)>EquiMeasure(i))) \n",
    "      localmin = false;\n",
    "      break\n",
    "    end\n",
    "  end\n",
    "  if (localmin)\n",
    "    i\n",
    "  end\n",
    "end\n",
    "\n",
    "mfpt = zeros(N, 1);\n",
    "SourceSet = 11;\n",
    "RemainSet = setdiff(1:N, SourceSet);\n",
    "mfpt(RemainSet) = - LMat(RemainSet, RemainSet) \\ ones(N-1, 1);\n",
    "\n",
    "TransLMat = diag(EquiMeasure) * LMat * diag(1./EquiMeasure); \n",
    "\n",
    "SourceSet = SetA;\n",
    "TargetSet = SetB;\n",
    "RemainSet = setdiff(1:N, union(SourceSet, TargetSet));\n",
    "\n",
    "% Initialization of Committor function: transition probability of reaching\n",
    "% the target set before returning to the source set.\n",
    "CommitAB = zeros(N, 1);\n",
    "CommitAB(SourceSet) = zeros(size(SourceSet));\n",
    "CommitAB(TargetSet) = ones(size(TargetSet));\n",
    "\n",
    "LMatRestrict = LMat(RemainSet, RemainSet);\n",
    "RightHandSide = - LMat(RemainSet, TargetSet) * CommitAB(TargetSet);\n",
    "\n",
    "% Solve the Dirchelet Boundary problem\n",
    "CommitAB(RemainSet) = LMatRestrict \\ RightHandSide;\n",
    "\n",
    "% Clustering into two basins according to the transition probability \n",
    "ClusterA = find(CommitAB <= 0.5);\n",
    "ClusterB = find(CommitAB > 0.5);\n",
    "\n",
    "% The inverse transition probability (committor function)\n",
    "CommitBA = zeros(N, 1);\n",
    "CommitBA(SourceSet) = ones(size(SourceSet));\n",
    "CommitBA(TargetSet) = zeros(size(TargetSet));\n",
    "\n",
    "LMatRestrict = LMat(RemainSet, RemainSet);\n",
    "RightHandSide = - LMat(RemainSet, SourceSet) * CommitBA(SourceSet);\n",
    "\n",
    "% Dirichelet Boundary Problem with inverse transition probability\n",
    "CommitBA(RemainSet) = LMatRestrict \\ RightHandSide;\n",
    "\n",
    "RhoAB = EquiMeasure .* CommitAB .* CommitBA;\n",
    "\n",
    "% Current or Flux on edges\n",
    "CurrentAB = diag(EquiMeasure .* CommitBA) * LMat * diag(CommitAB);\n",
    "CurrentAB = CurrentAB - diag(diag(CurrentAB));\n",
    "\n",
    "% Effective Current Flux\n",
    "EffCurrentAB = max(CurrentAB - CurrentAB', 0);\n",
    "\n",
    "% Transition Current or Flux on each node\n",
    "TransCurrent = zeros(N, 1);\n",
    "TransCurrent(ClusterA) = sum(EffCurrentAB(ClusterA, ClusterB), 2);\n",
    "TransCurrent(ClusterB) = sum(EffCurrentAB(ClusterA, ClusterB), 1);"
   ]
  }
 ],
 "metadata": {
  "kernelspec": {
   "display_name": "Python [py27]",
   "language": "python",
   "name": "Python [py27]"
  },
  "language_info": {
   "codemirror_mode": {
    "name": "ipython",
    "version": 2
   },
   "file_extension": ".py",
   "mimetype": "text/x-python",
   "name": "python",
   "nbconvert_exporter": "python",
   "pygments_lexer": "ipython2",
   "version": "2.7.13"
  }
 },
 "nbformat": 4,
 "nbformat_minor": 2
}
